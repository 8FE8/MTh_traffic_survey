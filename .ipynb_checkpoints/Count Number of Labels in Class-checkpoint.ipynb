{
 "cells": [
  {
   "cell_type": "code",
   "execution_count": 1,
   "id": "f9383612",
   "metadata": {},
   "outputs": [],
   "source": [
    "# import cv2 library \n",
    "import cv2\n",
    "import numpy as np \n",
    "import csv\n",
    "import os\n",
    "import glob\n",
    "\n",
    "# Copyright Patrick Keusch, 13.04.2021"
   ]
  },
  {
   "cell_type": "code",
   "execution_count": 2,
   "id": "090b232d",
   "metadata": {},
   "outputs": [],
   "source": [
    "#Import Filenames of Labels\n",
    "all_files_test = glob.glob(\"C:/Yolo_v4/darknet/build/darknet/x64/data/yolov4/test/*.txt\")\n",
    "all_files_train = glob.glob(\"C:/Yolo_v4/darknet/build/darknet/x64/data/yolov4/obj/*.txt\")"
   ]
  },
  {
   "cell_type": "code",
   "execution_count": 3,
   "id": "b6721405",
   "metadata": {},
   "outputs": [
    {
     "data": {
      "text/plain": [
       "'\\n0 = car\\n1 = person\\n2 = bicycle\\n3 = truck\\n4 = motorbike\\n5 = bus\\n'"
      ]
     },
     "execution_count": 3,
     "metadata": {},
     "output_type": "execute_result"
    }
   ],
   "source": [
    "\"\"\"\n",
    "0 = car\n",
    "1 = person\n",
    "2 = bicycle\n",
    "3 = truck\n",
    "4 = motorbike\n",
    "5 = bus\n",
    "\"\"\""
   ]
  },
  {
   "cell_type": "code",
   "execution_count": 4,
   "id": "0c840078",
   "metadata": {},
   "outputs": [
    {
     "data": {
      "text/plain": [
       "['C:/Yolo_v4/darknet/build/darknet/x64/data/yolov4/test\\\\frame12.txt',\n",
       " 'C:/Yolo_v4/darknet/build/darknet/x64/data/yolov4/test\\\\frame130.txt',\n",
       " 'C:/Yolo_v4/darknet/build/darknet/x64/data/yolov4/test\\\\frame2111.txt',\n",
       " 'C:/Yolo_v4/darknet/build/darknet/x64/data/yolov4/test\\\\frame2115.txt',\n",
       " 'C:/Yolo_v4/darknet/build/darknet/x64/data/yolov4/test\\\\frame2119.txt',\n",
       " 'C:/Yolo_v4/darknet/build/darknet/x64/data/yolov4/test\\\\frame212.txt',\n",
       " 'C:/Yolo_v4/darknet/build/darknet/x64/data/yolov4/test\\\\frame2124.txt',\n",
       " 'C:/Yolo_v4/darknet/build/darknet/x64/data/yolov4/test\\\\frame2128.txt',\n",
       " 'C:/Yolo_v4/darknet/build/darknet/x64/data/yolov4/test\\\\frame2131.txt',\n",
       " 'C:/Yolo_v4/darknet/build/darknet/x64/data/yolov4/test\\\\frame2133.txt',\n",
       " 'C:/Yolo_v4/darknet/build/darknet/x64/data/yolov4/test\\\\frame2136.txt',\n",
       " 'C:/Yolo_v4/darknet/build/darknet/x64/data/yolov4/test\\\\frame2138.txt',\n",
       " 'C:/Yolo_v4/darknet/build/darknet/x64/data/yolov4/test\\\\frame2143.txt',\n",
       " 'C:/Yolo_v4/darknet/build/darknet/x64/data/yolov4/test\\\\frame2144.txt',\n",
       " 'C:/Yolo_v4/darknet/build/darknet/x64/data/yolov4/test\\\\frame2147.txt',\n",
       " 'C:/Yolo_v4/darknet/build/darknet/x64/data/yolov4/test\\\\frame2153.txt',\n",
       " 'C:/Yolo_v4/darknet/build/darknet/x64/data/yolov4/test\\\\frame2156.txt',\n",
       " 'C:/Yolo_v4/darknet/build/darknet/x64/data/yolov4/test\\\\frame2160.txt',\n",
       " 'C:/Yolo_v4/darknet/build/darknet/x64/data/yolov4/test\\\\frame245.txt',\n",
       " 'C:/Yolo_v4/darknet/build/darknet/x64/data/yolov4/test\\\\frame25.txt',\n",
       " 'C:/Yolo_v4/darknet/build/darknet/x64/data/yolov4/test\\\\frame299.txt',\n",
       " 'C:/Yolo_v4/darknet/build/darknet/x64/data/yolov4/test\\\\frame344.txt',\n",
       " 'C:/Yolo_v4/darknet/build/darknet/x64/data/yolov4/test\\\\frame352.txt',\n",
       " 'C:/Yolo_v4/darknet/build/darknet/x64/data/yolov4/test\\\\frame366.txt',\n",
       " 'C:/Yolo_v4/darknet/build/darknet/x64/data/yolov4/test\\\\frame373.txt',\n",
       " 'C:/Yolo_v4/darknet/build/darknet/x64/data/yolov4/test\\\\frame54.txt',\n",
       " 'C:/Yolo_v4/darknet/build/darknet/x64/data/yolov4/test\\\\frame64.txt',\n",
       " 'C:/Yolo_v4/darknet/build/darknet/x64/data/yolov4/test\\\\frame711.txt',\n",
       " 'C:/Yolo_v4/darknet/build/darknet/x64/data/yolov4/test\\\\frame723.txt',\n",
       " 'C:/Yolo_v4/darknet/build/darknet/x64/data/yolov4/test\\\\frame8.txt',\n",
       " 'C:/Yolo_v4/darknet/build/darknet/x64/data/yolov4/test\\\\frame812.txt',\n",
       " 'C:/Yolo_v4/darknet/build/darknet/x64/data/yolov4/test\\\\frame842.txt',\n",
       " 'C:/Yolo_v4/darknet/build/darknet/x64/data/yolov4/test\\\\frame860.txt',\n",
       " 'C:/Yolo_v4/darknet/build/darknet/x64/data/yolov4/test\\\\frame872.txt',\n",
       " 'C:/Yolo_v4/darknet/build/darknet/x64/data/yolov4/test\\\\frame889.txt',\n",
       " 'C:/Yolo_v4/darknet/build/darknet/x64/data/yolov4/test\\\\frame904.txt',\n",
       " 'C:/Yolo_v4/darknet/build/darknet/x64/data/yolov4/test\\\\frame911.txt',\n",
       " 'C:/Yolo_v4/darknet/build/darknet/x64/data/yolov4/test\\\\frame918.txt']"
      ]
     },
     "execution_count": 4,
     "metadata": {},
     "output_type": "execute_result"
    }
   ],
   "source": [
    "all_files_test"
   ]
  },
  {
   "cell_type": "code",
   "execution_count": 7,
   "id": "8cbe1a11",
   "metadata": {},
   "outputs": [
    {
     "data": {
      "text/plain": [
       "148"
      ]
     },
     "execution_count": 7,
     "metadata": {},
     "output_type": "execute_result"
    }
   ],
   "source": [
    "len(all_files_train)\n"
   ]
  },
  {
   "cell_type": "code",
   "execution_count": 8,
   "id": "2ca380fd",
   "metadata": {},
   "outputs": [
    {
     "data": {
      "text/plain": [
       "38"
      ]
     },
     "execution_count": 8,
     "metadata": {},
     "output_type": "execute_result"
    }
   ],
   "source": [
    "len(all_files_test)"
   ]
  },
  {
   "cell_type": "code",
   "execution_count": 9,
   "id": "341af5c2",
   "metadata": {},
   "outputs": [],
   "source": [
    "array_test = np.genfromtxt(\"C:/Yolo_v4/darknet/build/darknet/x64/data/yolov4/obj\\\\frame1.txt\", delimiter=\"\")"
   ]
  },
  {
   "cell_type": "code",
   "execution_count": 10,
   "id": "23834bca",
   "metadata": {},
   "outputs": [
    {
     "data": {
      "text/plain": [
       "array([[0.      , 0.448047, 0.351852, 0.039323, 0.044444],\n",
       "       [0.      , 0.631901, 0.33287 , 0.035677, 0.038889],\n",
       "       [0.      , 0.67513 , 0.302778, 0.033073, 0.042593],\n",
       "       [0.      , 0.734635, 0.361806, 0.033854, 0.059722],\n",
       "       [0.      , 0.646875, 0.565278, 0.033854, 0.062963],\n",
       "       [0.      , 0.449349, 0.650694, 0.040885, 0.056944],\n",
       "       [0.      , 0.730208, 0.66713 , 0.043229, 0.056481],\n",
       "       [0.      , 0.793099, 0.716667, 0.040885, 0.046296],\n",
       "       [0.      , 0.866927, 0.756019, 0.041667, 0.047222],\n",
       "       [0.      , 0.386458, 0.752546, 0.036979, 0.056019],\n",
       "       [1.      , 0.61862 , 0.163657, 0.00599 , 0.015278],\n",
       "       [1.      , 0.614714, 0.175694, 0.004948, 0.01713 ],\n",
       "       [1.      , 0.611328, 0.181713, 0.004948, 0.015278],\n",
       "       [2.      , 0.221615, 0.876157, 0.011458, 0.019907],\n",
       "       [2.      , 0.217188, 0.814352, 0.009896, 0.024074],\n",
       "       [2.      , 0.208203, 0.822454, 0.009635, 0.022685],\n",
       "       [1.      , 0.595703, 0.864352, 0.007031, 0.012037],\n",
       "       [1.      , 0.815234, 0.521759, 0.008073, 0.012963]])"
      ]
     },
     "execution_count": 10,
     "metadata": {},
     "output_type": "execute_result"
    }
   ],
   "source": [
    "array_test"
   ]
  },
  {
   "cell_type": "code",
   "execution_count": 11,
   "id": "ca437e2b",
   "metadata": {},
   "outputs": [],
   "source": [
    "array_test = [10,10,10,10,10]"
   ]
  },
  {
   "cell_type": "code",
   "execution_count": 12,
   "id": "b658f09a",
   "metadata": {},
   "outputs": [],
   "source": [
    "#Read test txt and write labels to np array\n",
    "for i in range (1,len(all_files_test)):\n",
    "    array_test_import = np.genfromtxt(all_files_test[i-1], delimiter=\"\")\n",
    "    array_test = np.vstack((array_test,array_test_import))\n",
    "    "
   ]
  },
  {
   "cell_type": "code",
   "execution_count": 13,
   "id": "e37c60a3",
   "metadata": {},
   "outputs": [
    {
     "data": {
      "text/plain": [
       "array([[1.00000e+01, 1.00000e+01, 1.00000e+01, 1.00000e+01, 1.00000e+01],\n",
       "       [0.00000e+00, 5.51042e-01, 3.33796e-01, 4.01040e-02, 4.72220e-02],\n",
       "       [0.00000e+00, 6.34245e-01, 3.37269e-01, 3.46350e-02, 3.56480e-02],\n",
       "       ...,\n",
       "       [1.00000e+00, 7.15104e-01, 3.09491e-01, 7.29200e-03, 1.71300e-02],\n",
       "       [1.00000e+00, 7.42448e-01, 7.38430e-02, 1.04170e-02, 1.34260e-02],\n",
       "       [2.00000e+00, 3.55859e-01, 9.95400e-03, 1.01560e-02, 1.89810e-02]])"
      ]
     },
     "execution_count": 13,
     "metadata": {},
     "output_type": "execute_result"
    }
   ],
   "source": [
    "array_test"
   ]
  },
  {
   "cell_type": "code",
   "execution_count": 14,
   "id": "962b0598",
   "metadata": {},
   "outputs": [],
   "source": [
    "#Count Numbers of Labels in Total of test\n",
    "test_0 = np.count_nonzero(array_test == 0)\n",
    "test_1 = np.count_nonzero(array_test == 1)\n",
    "test_2 = np.count_nonzero(array_test == 2)\n",
    "test_3 = np.count_nonzero(array_test == 3)\n",
    "test_4 = np.count_nonzero(array_test == 4)\n",
    "test_5 = np.count_nonzero(array_test == 5)"
   ]
  },
  {
   "cell_type": "code",
   "execution_count": 15,
   "id": "9a9a39c3",
   "metadata": {},
   "outputs": [
    {
     "name": "stdout",
     "output_type": "stream",
     "text": [
      "Test\n",
      "Number of Car Labels: 284\n",
      "Number of Person Labels: 163\n",
      "Number of Bicycle Labels: 153\n",
      "Number of Truck Labels: 24\n",
      "Number of Motorbike Labels: 11\n",
      "Number of Bus Labels: 5\n"
     ]
    }
   ],
   "source": [
    "print(\"Test\")\n",
    "print(\"Number of Car Labels: \" + str(test_0))\n",
    "print(\"Number of Person Labels: \" + str(test_1))\n",
    "print(\"Number of Bicycle Labels: \" + str(test_2))\n",
    "print(\"Number of Truck Labels: \" + str(test_3))\n",
    "print(\"Number of Motorbike Labels: \" + str(test_4))\n",
    "print(\"Number of Bus Labels: \" + str(test_5))"
   ]
  },
  {
   "cell_type": "code",
   "execution_count": 16,
   "id": "a63710f6",
   "metadata": {},
   "outputs": [],
   "source": [
    "array_train = [10,10,10,10,10]\n",
    "#Read train txt and write labels to np array\n",
    "for i in range (1,len(all_files_train)):\n",
    "    array_train_import = np.genfromtxt(all_files_train[i-1], delimiter=\"\")\n",
    "    array_train = np.vstack((array_train,array_train_import))\n",
    "    "
   ]
  },
  {
   "cell_type": "code",
   "execution_count": 17,
   "id": "75d110b7",
   "metadata": {},
   "outputs": [],
   "source": [
    "#Count Numbers of Labels in Total of train\n",
    "test_0 = np.count_nonzero(array_train == 0)\n",
    "test_1 = np.count_nonzero(array_train == 1)\n",
    "test_2 = np.count_nonzero(array_train == 2)\n",
    "test_3 = np.count_nonzero(array_train == 3)\n",
    "test_4 = np.count_nonzero(array_train == 4)\n",
    "test_5 = np.count_nonzero(array_train == 5)"
   ]
  },
  {
   "cell_type": "code",
   "execution_count": 18,
   "id": "1fe818de",
   "metadata": {},
   "outputs": [
    {
     "name": "stdout",
     "output_type": "stream",
     "text": [
      "Train\n",
      "Number of Car Labels: 1247\n",
      "Number of Person Labels: 807\n",
      "Number of Bicycle Labels: 381\n",
      "Number of Truck Labels: 79\n",
      "Number of Motorbike Labels: 23\n",
      "Number of Bus Labels: 15\n"
     ]
    }
   ],
   "source": [
    "print(\"Train\")\n",
    "print(\"Number of Car Labels: \" + str(test_0))\n",
    "print(\"Number of Person Labels: \" + str(test_1))\n",
    "print(\"Number of Bicycle Labels: \" + str(test_2))\n",
    "print(\"Number of Truck Labels: \" + str(test_3))\n",
    "print(\"Number of Motorbike Labels: \" + str(test_4))\n",
    "print(\"Number of Bus Labels: \" + str(test_5))"
   ]
  },
  {
   "cell_type": "code",
   "execution_count": null,
   "id": "5ad2799f",
   "metadata": {},
   "outputs": [],
   "source": []
  }
 ],
 "metadata": {
  "kernelspec": {
   "display_name": "Python 3",
   "language": "python",
   "name": "python3"
  },
  "language_info": {
   "codemirror_mode": {
    "name": "ipython",
    "version": 3
   },
   "file_extension": ".py",
   "mimetype": "text/x-python",
   "name": "python",
   "nbconvert_exporter": "python",
   "pygments_lexer": "ipython3",
   "version": "3.7.0"
  }
 },
 "nbformat": 4,
 "nbformat_minor": 5
}
