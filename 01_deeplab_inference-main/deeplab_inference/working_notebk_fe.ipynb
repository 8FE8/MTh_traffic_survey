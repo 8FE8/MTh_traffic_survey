{
 "cells": [
  {
   "cell_type": "code",
   "execution_count": 1,
   "id": "33f21cba",
   "metadata": {},
   "outputs": [],
   "source": [
    "import cv2\n",
    "import numpy as np\n",
    "from PIL import Image\n",
    "import rasterio\n",
    "import matplotlib.pyplot as plt\n",
    "import matplotlib.image as mpimg\n",
    "\n",
    "# import DeepLab\n",
    "from model import DeepLabModel, DeepLab"
   ]
  },
  {
   "cell_type": "code",
   "execution_count": 2,
   "id": "bd99b2b2",
   "metadata": {},
   "outputs": [],
   "source": [
    "# input video file path\n",
    "video = str('./input/video/DJI_0008_short.mp4')\n",
    "\n",
    "# output foto file path\n",
    "foto = str('./output/foto/test1.png')\n",
    "foto_jpg = str('./output/foto/test1_umgewandelt.jpg')\n",
    "\n",
    "\n",
    "# output video file path\n",
    "output_video = str('./output/video/test_output_null.avi') # Path to Output-Video\n",
    "\n",
    "# Frames per Second for Output Video File\n",
    "fps = float(30.0)"
   ]
  },
  {
   "cell_type": "code",
   "execution_count": null,
   "id": "56cb98a1",
   "metadata": {},
   "outputs": [],
   "source": [
    "# Load .png image\n",
    "image = cv2.imread('./output/foto/test1.png')\n",
    "\n",
    "# Save .jpg image\n",
    "cv2.imwrite('./output/foto/test1_umgewandelt.jpg', image, [int(cv2.IMWRITE_JPEG_QUALITY), 100])"
   ]
  },
  {
   "cell_type": "code",
   "execution_count": null,
   "id": "d9a06a1e",
   "metadata": {},
   "outputs": [],
   "source": [
    "foto_jpg"
   ]
  },
  {
   "cell_type": "code",
   "execution_count": null,
   "id": "29ba120f",
   "metadata": {},
   "outputs": [],
   "source": [
    "a = np.array(df_train.iloc[0].Image.split(),dtype='float')\n",
    "a = a.reshape(96,96)\n",
    "plt.imshow(a)"
   ]
  },
  {
   "cell_type": "code",
   "execution_count": null,
   "id": "99da2632",
   "metadata": {},
   "outputs": [],
   "source": [
    "fig = plt.figure()\n",
    "ax = fig.subplots()\n",
    "ax.imshow(foto_jpg)"
   ]
  },
  {
   "cell_type": "code",
   "execution_count": null,
   "id": "2a3b2d69",
   "metadata": {},
   "outputs": [],
   "source": [
    "from osgeo import gdal\n",
    "from osgeo.gdalconst import GA_Update\n",
    "filename = 'somefile.tif'\n",
    "nodata = 0\n",
    "# open the file for editing\n",
    "ras = gdal.Open(filename, GA_Update)\n",
    "# loop through the image bands\n",
    "for i in range(1, ras.RasterCount + 1):\n",
    "    # set the nodata value of the band\n",
    "    ras.GetRasterBand(i).SetNoDataValue(nodata)\n",
    "# unlink the file object and save the results\n",
    "ras = None"
   ]
  },
  {
   "cell_type": "code",
   "execution_count": null,
   "id": "f2cdbe73",
   "metadata": {},
   "outputs": [],
   "source": []
  },
  {
   "cell_type": "code",
   "execution_count": null,
   "id": "dbae2929",
   "metadata": {},
   "outputs": [],
   "source": []
  },
  {
   "cell_type": "code",
   "execution_count": null,
   "id": "6da359e4",
   "metadata": {},
   "outputs": [],
   "source": []
  },
  {
   "cell_type": "code",
   "execution_count": null,
   "id": "8be0250b",
   "metadata": {},
   "outputs": [],
   "source": []
  },
  {
   "cell_type": "code",
   "execution_count": 3,
   "id": "a0f1ee6c",
   "metadata": {},
   "outputs": [
    {
     "name": "stdout",
     "output_type": "stream",
     "text": [
      "frameCount: 44\n",
      "frameWidth: 3840\n",
      "frameHeight: 2160\n",
      "videoFPS: 29\n",
      "DURATION: 1.5172413793103448\n"
     ]
    }
   ],
   "source": [
    "cap = cv2.VideoCapture(video)\n",
    "\n",
    "\n",
    "cap.set(cv2.CAP_PROP_POS_AVI_RATIO,0)\n",
    "frameCount = int(cap.get(cv2.CAP_PROP_FRAME_COUNT))\n",
    "frameWidth = int(cap.get(cv2.CAP_PROP_FRAME_WIDTH))\n",
    "frameHeight = int(cap.get(cv2.CAP_PROP_FRAME_HEIGHT))\n",
    "videoFPS = int(cap.get(cv2.CAP_PROP_FPS))\n",
    "\n",
    "print (f\"frameCount: {frameCount}\")\n",
    "print (f\"frameWidth: {frameWidth}\")\n",
    "print (f\"frameHeight: {frameHeight}\")\n",
    "print (f\"videoFPS: {videoFPS}\")\n",
    "\n",
    "buf = np.empty((\n",
    "    frameCount,\n",
    "    frameHeight,\n",
    "    frameWidth,\n",
    "    3), np.dtype('uint8'))\n",
    "\n",
    "fc = 0\n",
    "ret = True\n",
    "\n",
    "while (fc < frameCount):\n",
    "    ret, buf[fc] = cap.read()\n",
    "    fc += 1\n",
    "\n",
    "cap.release()\n",
    "videoArray = buf\n",
    "\n",
    "print (f\"DURATION: {frameCount/videoFPS}\")"
   ]
  },
  {
   "cell_type": "code",
   "execution_count": null,
   "id": "148c7ada",
   "metadata": {},
   "outputs": [],
   "source": []
  },
  {
   "cell_type": "code",
   "execution_count": 4,
   "id": "e87bc948",
   "metadata": {},
   "outputs": [],
   "source": [
    "# get dimension of video input\n",
    "width_input  = int(cap.get(cv2.CAP_PROP_FRAME_WIDTH))   # width`\n",
    "height_input = int(cap.get(cv2.CAP_PROP_FRAME_HEIGHT))  #  `height`"
   ]
  },
  {
   "cell_type": "code",
   "execution_count": 5,
   "id": "907f09ba",
   "metadata": {},
   "outputs": [],
   "source": [
    "# initialize video save optionen\n",
    "# Define the codec and create VideoWriter object\n",
    "fourcc = cv2.VideoWriter_fourcc(*'XVID')\n",
    "out_a = cv2.VideoWriter(output_video,fourcc, fps, (width_input,height_input)) # Output of whole frame"
   ]
  },
  {
   "cell_type": "markdown",
   "id": "93ff458f",
   "metadata": {},
   "source": [
    "# extract an safe video frames\n",
    "vidcap = cv2.VideoCapture(video)\n",
    "success,image = vidcap.read()\n",
    "count = 0\n",
    "while success:\n",
    "  cv2.imwrite(\"frame%d.jpg\" % count, image)     # save frame as JPEG file      \n",
    "  success,image = vidcap.read()\n",
    "  print('Read a new frame: ', success)\n",
    "  count += 1"
   ]
  },
  {
   "cell_type": "code",
   "execution_count": 6,
   "id": "349b627a",
   "metadata": {},
   "outputs": [
    {
     "name": "stdout",
     "output_type": "stream",
     "text": [
      "Init successful!\n"
     ]
    }
   ],
   "source": [
    "print(\"Init successful!\")"
   ]
  },
  {
   "cell_type": "code",
   "execution_count": 10,
   "id": "766ec828",
   "metadata": {},
   "outputs": [],
   "source": [
    "#deeplab definitions\n",
    "\n",
    "def create__label_colormap():\n",
    "     return np.asarray([\n",
    "         [0, 0, 0],\n",
    "         [0, 150, 0],\n",
    "         [255, 150, 150],\n",
    "     ])\n",
    "    \n",
    "\n",
    "def label_to_color_image(label):\n",
    "    \"\"\"Adds color defined by the dataset colormap to the label.\n",
    "\n",
    "    Args:\n",
    "    label: A 2D array with integer type, storing the segmentation label.\n",
    "\n",
    "    Returns:\n",
    "    result: A 2D array with floating type. The element of the array\n",
    "      is the color indexed by the corresponding element in the input label\n",
    "      to the PASCAL color map.\n",
    "\n",
    "    Raises:\n",
    "    ValueError: If label is not of rank 2 or its value is larger than color\n",
    "      map maximum entry.\n",
    "    \"\"\"\n",
    "    if label.ndim != 2:\n",
    "        raise ValueError('Expect 2-D input label')\n",
    "\n",
    "    colormap = create__label_colormap()\n",
    "\n",
    "    if np.max(label) >= len(colormap):\n",
    "        raise ValueError('label value too large.')\n",
    "\n",
    "    return colormap[label]"
   ]
  },
  {
   "cell_type": "code",
   "execution_count": 11,
   "id": "4f77a4f0",
   "metadata": {},
   "outputs": [],
   "source": [
    "# Set basic variables\n",
    "current_frame = 0\n",
    "id = 1"
   ]
  },
  {
   "cell_type": "code",
   "execution_count": null,
   "id": "801ea231",
   "metadata": {},
   "outputs": [],
   "source": [
    "ret, first_frame = cap.read()\n",
    "prev_gray = cv2.cvtColor(first_frame, cv2.COLOR_BGR2GRAY)"
   ]
  },
  {
   "cell_type": "code",
   "execution_count": 12,
   "id": "c34f8414",
   "metadata": {},
   "outputs": [
    {
     "name": "stdout",
     "output_type": "stream",
     "text": [
      "finished!\n"
     ]
    }
   ],
   "source": [
    "# -------1--------\n",
    "model = DeepLabModel('model/frozen_inference_graph_cars.pb')\n",
    "\n",
    "cap = cv2.VideoCapture(video)\n",
    "cap.set(cv2.CAP_PROP_POS_AVI_RATIO,0)\n",
    "\n",
    "img_array = []\n",
    "\n",
    "while True:\n",
    "    current_frame += 1\n",
    "    ret, frame = cap.read()\n",
    "    \n",
    "    if frame is None:\n",
    "        print('finished!')\n",
    "        break\n",
    "        \n",
    "    mask = model.run(Image.fromarray(frame))       \n",
    "    img_array.append(label_to_color_image(mask).astype(np.uint8))\n",
    "    \n",
    "\n"
   ]
  },
  {
   "cell_type": "code",
   "execution_count": 13,
   "id": "e5d994f6",
   "metadata": {},
   "outputs": [],
   "source": [
    "#----2------\n",
    "size = img_array[0].shape[:2][::-1]"
   ]
  },
  {
   "cell_type": "code",
   "execution_count": 14,
   "id": "3d088620",
   "metadata": {},
   "outputs": [],
   "source": [
    "#------3------\n",
    "out = cv2.VideoWriter(output_video,cv2.VideoWriter_fourcc(*'DIVX'), 15, size)\n",
    " \n",
    "for i in range(len(img_array)):\n",
    "    out.write(img_array[i])\n",
    "out.release()"
   ]
  },
  {
   "cell_type": "code",
   "execution_count": null,
   "id": "df83d718",
   "metadata": {},
   "outputs": [],
   "source": [
    "label_to_color_image(mask).astype(np.uint8).shape"
   ]
  },
  {
   "cell_type": "code",
   "execution_count": null,
   "id": "2c32b208",
   "metadata": {},
   "outputs": [],
   "source": [
    "size"
   ]
  },
  {
   "cell_type": "code",
   "execution_count": null,
   "id": "93e8b398",
   "metadata": {},
   "outputs": [],
   "source": [
    "type(first_frame)"
   ]
  },
  {
   "cell_type": "code",
   "execution_count": null,
   "id": "9b8e8e60",
   "metadata": {
    "scrolled": true
   },
   "outputs": [],
   "source": [
    "current_frame"
   ]
  },
  {
   "cell_type": "code",
   "execution_count": null,
   "id": "3c997ffe",
   "metadata": {},
   "outputs": [],
   "source": [
    "buf[0,:,:,:]"
   ]
  },
  {
   "cell_type": "code",
   "execution_count": null,
   "id": "ad0fd7ee",
   "metadata": {},
   "outputs": [],
   "source": [
    "original_im = Image.open(file)"
   ]
  },
  {
   "cell_type": "code",
   "execution_count": null,
   "id": "95cada0a",
   "metadata": {},
   "outputs": [],
   "source": [
    "model = DeepLabModel('model/frozen_inference_graph_cars.pb')"
   ]
  },
  {
   "cell_type": "code",
   "execution_count": null,
   "id": "df8725a9",
   "metadata": {},
   "outputs": [],
   "source": [
    "Image.fromarray(label_to_color_image(mask).astype(np.uint8)).save('output/test1.png')"
   ]
  },
  {
   "cell_type": "markdown",
   "id": "2b3dc7a6",
   "metadata": {},
   "source": [
    "---------"
   ]
  },
  {
   "cell_type": "code",
   "execution_count": null,
   "id": "1f6356e0",
   "metadata": {},
   "outputs": [],
   "source": [
    "mask = model.run(Image.fromarray(buf[94,:,:,:]))"
   ]
  },
  {
   "cell_type": "code",
   "execution_count": null,
   "id": "60dbbc29",
   "metadata": {},
   "outputs": [],
   "source": [
    "Image.fromarray(label_to_color_image(mask).astype(np.uint8))"
   ]
  },
  {
   "cell_type": "code",
   "execution_count": null,
   "id": "b2e13290",
   "metadata": {},
   "outputs": [],
   "source": []
  },
  {
   "cell_type": "code",
   "execution_count": null,
   "id": "297d5944",
   "metadata": {},
   "outputs": [],
   "source": []
  }
 ],
 "metadata": {
  "kernelspec": {
   "display_name": "Python 3 (ipykernel)",
   "language": "python",
   "name": "python3"
  },
  "language_info": {
   "codemirror_mode": {
    "name": "ipython",
    "version": 3
   },
   "file_extension": ".py",
   "mimetype": "text/x-python",
   "name": "python",
   "nbconvert_exporter": "python",
   "pygments_lexer": "ipython3",
   "version": "3.9.12"
  }
 },
 "nbformat": 4,
 "nbformat_minor": 5
}
