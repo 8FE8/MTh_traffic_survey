{
 "cells": [
  {
   "cell_type": "code",
   "execution_count": 2,
   "metadata": {},
   "outputs": [],
   "source": [
    "from model import DeepLabModel, DeepLab\n",
    "import matplotlib.pyplot as plt\n",
    "from PIL import Image\n",
    "import numpy as np\n",
    "import cv2\n",
    "import params\n",
    "from CentroidTracker import CentroidTracker, progressBar, showWindows, georeference\n",
    "import time"
   ]
  },
  {
   "cell_type": "code",
   "execution_count": 3,
   "metadata": {},
   "outputs": [],
   "source": [
    "# Set basic variables\n",
    "ct = CentroidTracker()"
   ]
  },
  {
   "cell_type": "code",
   "execution_count": 4,
   "metadata": {},
   "outputs": [],
   "source": [
    "# def create__label_colormap():\n",
    "#      return np.asarray([\n",
    "#          [0, 0, 0],\n",
    "#          [0, 192, 0],\n",
    "#          [255, 192, 192],\n",
    "#      ])\n",
    "\n",
    "# def label_to_color_image(label):\n",
    "#     \"\"\"Adds color defined by the dataset colormap to the label.\n",
    "\n",
    "#     Args:\n",
    "#     label: A 2D array with integer type, storing the segmentation label.\n",
    "\n",
    "#     Returns:\n",
    "#     result: A 2D array with floating type. The element of the array\n",
    "#       is the color indexed by the corresponding element in the input label\n",
    "#       to the PASCAL color map.\n",
    "\n",
    "#     Raises:\n",
    "#     ValueError: If label is not of rank 2 or its value is larger than color\n",
    "#       map maximum entry.\n",
    "#     \"\"\"\n",
    "#     if label.ndim != 2:\n",
    "#         raise ValueError('Expect 2-D input label')\n",
    "\n",
    "#     colormap = create__label_colormap()\n",
    "\n",
    "#     if np.max(label) >= len(colormap):\n",
    "#         raise ValueError('label value too large.')\n",
    "\n",
    "#     return colormap[label]"
   ]
  },
  {
   "cell_type": "code",
   "execution_count": 11,
   "metadata": {},
   "outputs": [],
   "source": [
    "file = 'input/foto/cars.JPG'\n",
    "frame = Image.open(file)\n",
    "im = cv2.imread('input/foto/cars.JPG')"
   ]
  },
  {
   "cell_type": "code",
   "execution_count": 12,
   "metadata": {},
   "outputs": [],
   "source": [
    "#Image.fromarray(mask).astype"
   ]
  },
  {
   "cell_type": "code",
   "execution_count": 13,
   "metadata": {},
   "outputs": [],
   "source": [
    "original_im = Image.open(file)"
   ]
  },
  {
   "cell_type": "code",
   "execution_count": 15,
   "metadata": {},
   "outputs": [],
   "source": [
    "cv2.imshow('img',im)"
   ]
  },
  {
   "cell_type": "code",
   "execution_count": null,
   "metadata": {},
   "outputs": [],
   "source": [
    "# frame = Image.open(file)\n",
    "\n",
    "# model = DeepLabModel('model/frozen_inference_graph_cars.pb')\n",
    "\n",
    "# mask = model.run(frame)\n",
    "\n",
    "#Image.fromarray(label_to_color_image(mask).astype(np.uint8)).save('output/foto/test1.png')\n",
    "\n",
    "# plt.imshow(mask)\n",
    "# Image.fromarray(label_to_color_image(mask).astype(np.uint8)).save('output/test99.png')"
   ]
  },
  {
   "cell_type": "code",
   "execution_count": null,
   "metadata": {},
   "outputs": [],
   "source": [
    "prev_gray = cv2.cvtColor(np.uint8(frame), cv2.COLOR_RGB2GRAY)"
   ]
  },
  {
   "cell_type": "code",
   "execution_count": null,
   "metadata": {},
   "outputs": [],
   "source": [
    "prev_gray"
   ]
  },
  {
   "cell_type": "code",
   "execution_count": null,
   "metadata": {},
   "outputs": [],
   "source": [
    "plt.imshow(prev_gray)"
   ]
  },
  {
   "cell_type": "code",
   "execution_count": null,
   "metadata": {},
   "outputs": [],
   "source": [
    "mask = np.zeros_like(frame)\n",
    "mask2 = np.zeros_like(frame)"
   ]
  },
  {
   "cell_type": "code",
   "execution_count": null,
   "metadata": {},
   "outputs": [],
   "source": [
    "mask2"
   ]
  },
  {
   "cell_type": "code",
   "execution_count": null,
   "metadata": {},
   "outputs": [],
   "source": [
    "coord_pixel0_x, coord_pixel0_y, scale = georeference()"
   ]
  },
  {
   "cell_type": "code",
   "execution_count": null,
   "metadata": {},
   "outputs": [],
   "source": [
    "# Start time\n",
    "start = time.time()"
   ]
  },
  {
   "cell_type": "code",
   "execution_count": null,
   "metadata": {},
   "outputs": [],
   "source": [
    "backSub = cv2.createBackgroundSubtractorKNN()"
   ]
  },
  {
   "cell_type": "code",
   "execution_count": null,
   "metadata": {},
   "outputs": [],
   "source": [
    "# ----    BACKGROUND SUBTRACTION (BS)   -----//\n",
    "# update the background model\n",
    "fgMask = backSub.apply(prev_gray)\n",
    "# optimization of elements\n",
    "thresh = cv2.threshold(fgMask, params.threshold, 255, cv2.THRESH_BINARY)[1]\n",
    "se0 = cv2.getStructuringElement(cv2.MORPH_ELLIPSE, (5, 5))\n",
    "cleaned = cv2.morphologyEx(thresh, cv2.MORPH_OPEN, se0)\n",
    "kernel_dil = np.ones(params.kernel_dilatation, np.uint8)\n",
    "thresh = cv2.dilate(thresh, kernel_dil, iterations=1)\n",
    "\n",
    "se1 = cv2.getStructuringElement(cv2.MORPH_ELLIPSE, (11, 11))\n",
    "se2 = cv2.getStructuringElement(cv2.MORPH_ELLIPSE, (41, 41))\n",
    "opened = cv2.morphologyEx(thresh, cv2.MORPH_OPEN, se1)\n",
    "closed = cv2.morphologyEx(opened, cv2.MORPH_CLOSE, se2)\n",
    "\n",
    "plt.imshow(fgMask)"
   ]
  },
  {
   "cell_type": "code",
   "execution_count": null,
   "metadata": {},
   "outputs": [],
   "source": [
    "im = cv2.imread('input/foto/cars.JPG')\n",
    "gray=cv2.cvtColor(im,cv2.COLOR_BGR2GRAY)\n",
    "contours, hierarchy = cv2.findContours(gray,cv2.RETR_LIST,cv2.CHAIN_APPROX_SIMPLE)[-2:]\n",
    "idx =0 \n",
    "for cnt in contours:\n",
    "    idx += 1\n",
    "    x,y,w,h = cv2.boundingRect(cnt)\n",
    "    roi=im[y:y+h,x:x+w]\n",
    "    cv2.imwrite(str(idx) + '.jpg', roi)\n",
    "    cv2.rectangle(im,(x,y),(x+w,y+h),(200,0,0),2)\n",
    "cv2.imshow('img',im)\n",
    "cv2.waitKey(0)  "
   ]
  },
  {
   "cell_type": "code",
   "execution_count": null,
   "metadata": {},
   "outputs": [],
   "source": [
    "# detect the contours on the binary image using cv2.CHAIN_APPROX_NONE\n",
    "contours = cv2.findContours(image=prev_gray, mode=cv2.RETR_TREE, method=cv2.CHAIN_APPROX_NONE)\n",
    "mask = np.zeros_like(frame)\n",
    "# draw contours on the original image\n",
    "contours = [x for x in contours if len(x) >= 30]\n",
    "cv2.drawContours(image=mask, contours=contours, contourIdx=-1, color=(0, 255, 0), thickness=2,\n",
    "                 lineType=cv2.LINE_AA)"
   ]
  },
  {
   "cell_type": "code",
   "execution_count": null,
   "metadata": {},
   "outputs": [],
   "source": [
    "plt.imshow(fgMask)"
   ]
  },
  {
   "cell_type": "code",
   "execution_count": null,
   "metadata": {},
   "outputs": [],
   "source": [
    "# ------ Draw bounding boxes ----\n",
    "rects = []\n",
    "ROI_number = 0\n",
    "for cntr in contours:\n",
    "    x, y, w, h = cv2.boundingRect(cntr)\n",
    "    if params.min_width < w < params.max_width and params.min_height < h < params.max_height:\n",
    "        cv2.rectangle(frame, (x, y), (x + w, y + h), (0, 0, 255), 2)\n",
    "        ROI = mask[y:y + h, x:x + w]\n",
    "        cv2.putText(mask, str(ROI_number), (x, y), cv2.FONT_HERSHEY_SIMPLEX, 0.5, (255, 255, 255))\n",
    "        rects.append([x, y, x + w, y + h])\n",
    "        ROI_number += 1"
   ]
  },
  {
   "cell_type": "code",
   "execution_count": null,
   "metadata": {},
   "outputs": [],
   "source": [
    "plt.imshow(prev_gray)"
   ]
  },
  {
   "cell_type": "code",
   "execution_count": null,
   "metadata": {},
   "outputs": [],
   "source": [
    "# update centroid tracker using the computed set of bounding box rectangles\n",
    "objects, life = ct.update(rects)\n",
    "\n",
    "# build path in swiss coordinate system\n",
    "if objects is not None:\n",
    "    for (objectID, centroid) in objects.items():\n",
    "        if life[objectID] > params.min_life:\n",
    "            # draw both the ID of the object and the centroid of the object on the output frame\n",
    "            text = \"ID {}\".format(objectID)\n",
    "            x = centroid[0]\n",
    "            y = centroid[1]\n",
    "            cv2.putText(frame, text, (x - 10, y - 10), cv2.FONT_HERSHEY_SIMPLEX, 0.5, (0, 255, 0), 2)\n",
    "            cv2.circle(frame, (x, y), 4, (0, 255, 0), -1)\n",
    "            if objectID in path.keys():\n",
    "                path[objectID].append((coord_pixel0_x+(x*scale), coord_pixel0_y-(y*scale)))\n",
    "            else:\n",
    "                path[objectID] = [(coord_pixel0_x+(x*scale), coord_pixel0_y-(y*scale))]"
   ]
  },
  {
   "cell_type": "code",
   "execution_count": null,
   "metadata": {},
   "outputs": [],
   "source": [
    "plt.imshow(fgMask)"
   ]
  },
  {
   "cell_type": "code",
   "execution_count": null,
   "metadata": {},
   "outputs": [],
   "source": []
  }
 ],
 "metadata": {
  "kernelspec": {
   "display_name": "Python 3",
   "language": "python",
   "name": "python3"
  },
  "language_info": {
   "codemirror_mode": {
    "name": "ipython",
    "version": 3
   },
   "file_extension": ".py",
   "mimetype": "text/x-python",
   "name": "python",
   "nbconvert_exporter": "python",
   "pygments_lexer": "ipython3",
   "version": "3.8.5"
  }
 },
 "nbformat": 4,
 "nbformat_minor": 4
}
