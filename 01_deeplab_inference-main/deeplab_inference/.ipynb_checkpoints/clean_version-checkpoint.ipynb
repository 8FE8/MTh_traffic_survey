{
 "cells": [
  {
   "cell_type": "markdown",
   "metadata": {},
   "source": [
    "# Master Thesis 2022\n",
    "\n",
    "## Master of Science in Engineering, Geomatik\n",
    "\n",
    "### Fabian Escribano"
   ]
  },
  {
   "cell_type": "code",
   "execution_count": null,
   "metadata": {},
   "outputs": [],
   "source": [
    "# ---- import libraries\n",
    "import cv2\n",
    "import numpy as np\n",
    "from PIL import Image\n",
    "from vidstab import VidStab\n",
    "import matplotlib.pyplot as plt\n",
    "from skimage.measure import label, regionprops\n",
    "from skimage.filters import threshold_otsu\n",
    "\n",
    "# ---- import DeepLab\n",
    "from model import DeepLabModel, DeepLab"
   ]
  },
  {
   "cell_type": "code",
   "execution_count": null,
   "metadata": {},
   "outputs": [],
   "source": [
    "# ---- input video file path\n",
    "video = str('./input/video/DJI_0008_short.mp4')\n",
    "\n",
    "# ---- input foto file path\n",
    "foto = 'input/foto/test.png'\n",
    "\n",
    "# ---- output foto file path\n",
    "output_foto = 'output/foto/cars.JPG'\n",
    "\n",
    "# ---- output video file path\n",
    "output_video = str('./output/video/DJI_0008_short.avi') # Path to Output-Video\n",
    "\n",
    "# ---- output stabilized video path\n",
    "video_stabilized = str('./output/video/test_output_short_stabilized.avi') # Path to stabilized Video\n",
    "\n",
    "# ---- Frames per Second for Output Video File\n",
    "fps = float(30.0)"
   ]
  },
  {
   "cell_type": "code",
   "execution_count": null,
   "metadata": {},
   "outputs": [],
   "source": [
    "# ----Set basic variables\n",
    "current_frame = 0"
   ]
  },
  {
   "cell_type": "code",
   "execution_count": null,
   "metadata": {},
   "outputs": [],
   "source": []
  },
  {
   "cell_type": "code",
   "execution_count": null,
   "metadata": {},
   "outputs": [],
   "source": []
  },
  {
   "cell_type": "code",
   "execution_count": null,
   "metadata": {},
   "outputs": [],
   "source": []
  },
  {
   "cell_type": "markdown",
   "metadata": {},
   "source": [
    "## StabilizeVideo"
   ]
  },
  {
   "cell_type": "markdown",
   "metadata": {},
   "source": [
    "# Stabilize Video and save to File \"video_stabilized\"\n",
    "stabilizer = VidStab(kp_method='FAST', threshold=42, nonmaxSuppression=False)\n",
    "stabilizer.stabilize(input_path = video, output_path = video_stabilized, border_type = 'black', border_size=100)\n",
    "\n",
    "stabilizer.plot_trajectory()\n",
    "plt.show()\n",
    "\n",
    "stabilizer.plot_transforms()\n",
    "plt.show()\n"
   ]
  },
  {
   "cell_type": "markdown",
   "metadata": {},
   "source": [
    "# Run DeepLab"
   ]
  },
  {
   "cell_type": "code",
   "execution_count": null,
   "metadata": {},
   "outputs": [],
   "source": [
    "# ---- deeplab definitions\n",
    "\n",
    "def create__label_colormap():\n",
    "     return np.asarray([\n",
    "         [0, 0, 0],\n",
    "         [0, 192, 0],\n",
    "         [255, 192, 192],\n",
    "     ])\n",
    "    \n",
    "\n",
    "def label_to_color_image(label):\n",
    "    \"\"\"Adds color defined by the dataset colormap to the label.\n",
    "\n",
    "    Args:\n",
    "    label: A 2D array with integer type, storing the segmentation label.\n",
    "\n",
    "    Returns:\n",
    "    result: A 2D array with floating type. The element of the array\n",
    "      is the color indexed by the corresponding element in the input label\n",
    "      to the PASCAL color map.\n",
    "\n",
    "    Raises:\n",
    "    ValueError: If label is not of rank 2 or its value is larger than color\n",
    "      map maximum entry.\n",
    "    \"\"\"\n",
    "    if label.ndim != 2:\n",
    "        raise ValueError('Expect 2-D input label')\n",
    "\n",
    "    colormap = create__label_colormap()\n",
    "\n",
    "    if np.max(label) >= len(colormap):\n",
    "        raise ValueError('label value too large.')\n",
    "\n",
    "    return colormap[label]"
   ]
  },
  {
   "cell_type": "code",
   "execution_count": null,
   "metadata": {},
   "outputs": [],
   "source": [
    "# ---- iterate DeepLab trough images\n",
    "\n",
    "model = DeepLabModel('model/frozen_inference_graph_cars.pb')\n",
    "\n",
    "cap = cv2.VideoCapture(video)\n",
    "cap.set(cv2.CAP_PROP_POS_AVI_RATIO,0)\n",
    "\n",
    "img_array = []\n",
    "\n",
    "while True:\n",
    "    current_frame += 1\n",
    "    ret, frame = cap.read()\n",
    "    \n",
    "    if frame is None:\n",
    "        print('finished!')\n",
    "        break\n",
    "        \n",
    "    mask = model.run(Image.fromarray(frame))\n",
    "    \n",
    "    label_img = label(mask)\n",
    "    img_array.append(label_to_color_image(mask).astype(np.uint8))\n"
   ]
  },
  {
   "cell_type": "code",
   "execution_count": null,
   "metadata": {},
   "outputs": [],
   "source": []
  },
  {
   "cell_type": "code",
   "execution_count": null,
   "metadata": {},
   "outputs": [],
   "source": [
    "# ---- translate array\n",
    "size = img_array[0].shape[:2][::-1]"
   ]
  },
  {
   "cell_type": "code",
   "execution_count": null,
   "metadata": {},
   "outputs": [],
   "source": [
    "# ---- save to video\n",
    "out = cv2.VideoWriter(output_video,cv2.VideoWriter_fourcc(*'DIVX'), 15, size)\n",
    " \n",
    "for i in range(len(img_array)):\n",
    "    out.write(img_array[i])\n",
    "out.release()"
   ]
  },
  {
   "cell_type": "code",
   "execution_count": null,
   "metadata": {},
   "outputs": [],
   "source": []
  }
 ],
 "metadata": {
  "kernelspec": {
   "display_name": "Python 3",
   "language": "python",
   "name": "python3"
  },
  "language_info": {
   "codemirror_mode": {
    "name": "ipython",
    "version": 3
   },
   "file_extension": ".py",
   "mimetype": "text/x-python",
   "name": "python",
   "nbconvert_exporter": "python",
   "pygments_lexer": "ipython3",
   "version": "3.8.5"
  }
 },
 "nbformat": 4,
 "nbformat_minor": 5
}
